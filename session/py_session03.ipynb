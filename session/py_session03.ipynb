{
  "nbformat": 4,
  "nbformat_minor": 0,
  "metadata": {
    "colab": {
      "name": "py_session03.ipynb",
      "provenance": [],
      "collapsed_sections": [],
      "toc_visible": true,
      "include_colab_link": true
    },
    "kernelspec": {
      "name": "python3",
      "display_name": "Python 3"
    }
  },
  "cells": [
    {
      "cell_type": "markdown",
      "metadata": {
        "id": "view-in-github",
        "colab_type": "text"
      },
      "source": [
        "<a href=\"https://colab.research.google.com/github/barja8/python_intro/blob/master/session/py_session03.ipynb\" target=\"_parent\"><img src=\"https://colab.research.google.com/assets/colab-badge.svg\" alt=\"Open In Colab\"/></a>"
      ]
    },
    {
      "cell_type": "markdown",
      "metadata": {
        "id": "-jBjRdgnFWsK",
        "colab_type": "text"
      },
      "source": [
        "# General functions in python\n",
        "\n",
        "\n"
      ]
    },
    {
      "cell_type": "markdown",
      "metadata": {
        "id": "yahaV390I8Ze",
        "colab_type": "text"
      },
      "source": [
        "### 1.Introduction\n",
        "\n",
        "What is a function?\n",
        "\n",
        "A function is a piece of reusable code, a function has an argument and there is for each object type in python.\n",
        "\n",
        "**A function**\n",
        "\n",
        "**round(number , ndigits)**\n",
        "\n",
        "*number and ndigits* the are arguments of function round.\n"
      ]
    },
    {
      "cell_type": "code",
      "metadata": {
        "id": "bzCL80BYHcU5",
        "colab_type": "code",
        "colab": {
          "base_uri": "https://localhost:8080/",
          "height": 51
        },
        "outputId": "e51a6b3d-a7e9-42d3-cdce-6098e44011b9"
      },
      "source": [
        "# Example \n",
        "x = 123.4342567\n",
        "print(x)\n",
        "\n",
        "# round the number in two digits\n",
        "new_x = round(x,2)\n",
        "print('new_x is:',new_x)"
      ],
      "execution_count": 6,
      "outputs": [
        {
          "output_type": "stream",
          "text": [
            "123.4342567\n",
            "new_x is: 123.43\n"
          ],
          "name": "stdout"
        }
      ]
    },
    {
      "cell_type": "markdown",
      "metadata": {
        "id": "7tOKSD3rImOA",
        "colab_type": "text"
      },
      "source": [
        "### 2.Familiar functions\n",
        "* print()          \n",
        "\n",
        "* round()\n",
        "\n",
        "* help()\n",
        "\n",
        "* len()\n",
        "\n",
        "* round()\n",
        "\n",
        "* type()\n",
        "\n",
        "* srt()\n",
        "\n",
        "* bool()\n",
        "\n",
        "* int()\n",
        "\n",
        "* float()\n",
        "\n",
        "So , What is the syntaxis of a specific function?\n",
        "\n",
        "              output = function_name(input)\n",
        "\n"
      ]
    },
    {
      "cell_type": "code",
      "metadata": {
        "id": "01Bubya1KpvZ",
        "colab_type": "code",
        "colab": {
          "base_uri": "https://localhost:8080/",
          "height": 136
        },
        "outputId": "472e9d6f-b5b2-482e-fe5b-5882cd32b913"
      },
      "source": [
        "var = [1, 2, 3]\n",
        "var2 = True\n",
        "\n",
        "print(var)\n",
        "print('\\n',var2)\n",
        "print('\\n',len(var))\n",
        "print('---'*24)\n",
        "\n",
        "new_var2 = int(var2)\n",
        "print(new_var2)"
      ],
      "execution_count": 14,
      "outputs": [
        {
          "output_type": "stream",
          "text": [
            "[1, 2, 3]\n",
            "\n",
            " True\n",
            "\n",
            " 3\n",
            "------------------------------------------------------------------------\n",
            "1\n"
          ],
          "name": "stdout"
        }
      ]
    },
    {
      "cell_type": "markdown",
      "metadata": {
        "id": "JgWWf-YkNLAe",
        "colab_type": "text"
      },
      "source": [
        "### 3.Help System in python about of a function\n",
        "You can request help in python using the function help() or the symbol \"?\" before a function.\n",
        "\n"
      ]
    }
  ]
}