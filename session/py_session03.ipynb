{
  "nbformat": 4,
  "nbformat_minor": 0,
  "metadata": {
    "colab": {
      "name": "py_session03.ipynb",
      "provenance": [],
      "collapsed_sections": [],
      "toc_visible": true,
      "include_colab_link": true
    },
    "kernelspec": {
      "name": "python3",
      "display_name": "Python 3"
    }
  },
  "cells": [
    {
      "cell_type": "markdown",
      "metadata": {
        "id": "view-in-github",
        "colab_type": "text"
      },
      "source": [
        "<a href=\"https://colab.research.google.com/github/barja8/python_intro/blob/master/session/py_session03.ipynb\" target=\"_parent\"><img src=\"https://colab.research.google.com/assets/colab-badge.svg\" alt=\"Open In Colab\"/></a>"
      ]
    },
    {
      "cell_type": "markdown",
      "metadata": {
        "id": "-jBjRdgnFWsK",
        "colab_type": "text"
      },
      "source": [
        "# General functions in python\n",
        "\n",
        "\n"
      ]
    },
    {
      "cell_type": "markdown",
      "metadata": {
        "id": "yahaV390I8Ze",
        "colab_type": "text"
      },
      "source": [
        "### 1.Introduction\n",
        "\n",
        "What is a function?\n",
        "\n",
        "A function is a piece of reusable code, a function has an argument and there is for each object type in python.\n",
        "\n",
        "**A function**\n",
        "\n",
        "**round(number , ndigits)**\n",
        "\n",
        "*number and ndigits* the are arguments of function round.\n"
      ]
    },
    {
      "cell_type": "code",
      "metadata": {
        "id": "bzCL80BYHcU5",
        "colab_type": "code",
        "colab": {
          "base_uri": "https://localhost:8080/",
          "height": 51
        },
        "outputId": "e51a6b3d-a7e9-42d3-cdce-6098e44011b9"
      },
      "source": [
        "# Example \n",
        "x = 123.4342567\n",
        "print(x)\n",
        "\n",
        "# round the number in two digits\n",
        "new_x = round(x,2)\n",
        "print('new_x is:',new_x)"
      ],
      "execution_count": 6,
      "outputs": [
        {
          "output_type": "stream",
          "text": [
            "123.4342567\n",
            "new_x is: 123.43\n"
          ],
          "name": "stdout"
        }
      ]
    },
    {
      "cell_type": "markdown",
      "metadata": {
        "id": "7tOKSD3rImOA",
        "colab_type": "text"
      },
      "source": [
        "### 2.Familiar functions\n",
        "* print()          \n",
        "\n",
        "* round()\n",
        "\n",
        "* help()\n",
        "\n",
        "* len()\n",
        "\n",
        "* round()\n",
        "\n",
        "* type()\n",
        "\n",
        "* srt()\n",
        "\n",
        "* bool()\n",
        "\n",
        "* int()\n",
        "\n",
        "* float()\n",
        "\n",
        "So , What is the syntaxis of a specific function?\n",
        "\n",
        "              output = function_name(input)\n",
        "\n"
      ]
    },
    {
      "cell_type": "code",
      "metadata": {
        "id": "01Bubya1KpvZ",
        "colab_type": "code",
        "colab": {
          "base_uri": "https://localhost:8080/",
          "height": 136
        },
        "outputId": "472e9d6f-b5b2-482e-fe5b-5882cd32b913"
      },
      "source": [
        "var = [1, 2, 3]\n",
        "var2 = True\n",
        "\n",
        "print(var)\n",
        "print('\\n',var2)\n",
        "print('\\n',len(var))\n",
        "print('---'*24)\n",
        "\n",
        "new_var2 = int(var2)\n",
        "print(new_var2)"
      ],
      "execution_count": 14,
      "outputs": [
        {
          "output_type": "stream",
          "text": [
            "[1, 2, 3]\n",
            "\n",
            " True\n",
            "\n",
            " 3\n",
            "------------------------------------------------------------------------\n",
            "1\n"
          ],
          "name": "stdout"
        }
      ]
    },
    {
      "cell_type": "markdown",
      "metadata": {
        "id": "JgWWf-YkNLAe",
        "colab_type": "text"
      },
      "source": [
        "### 3.Help System in python about of a function\n",
        "You can request help in python using the function help() or the symbol \"?\" before a function.\n",
        "\n",
        "**Example**\n",
        "\n",
        "                    help(name_function)\n",
        "                     ?name_function\n",
        "\n"
      ]
    },
    {
      "cell_type": "code",
      "metadata": {
        "id": "Z8E35vfGPsfP",
        "colab_type": "code",
        "colab": {
          "base_uri": "https://localhost:8080/",
          "height": 1000
        },
        "outputId": "3494fa09-71ec-4606-ea21-d3c43f24796c"
      },
      "source": [
        "# What does you do the complex function ? \n",
        "help(complex)\n"
      ],
      "execution_count": 15,
      "outputs": [
        {
          "output_type": "stream",
          "text": [
            "Help on class complex in module builtins:\n",
            "\n",
            "class complex(object)\n",
            " |  complex(real[, imag]) -> complex number\n",
            " |  \n",
            " |  Create a complex number from a real part and an optional imaginary part.\n",
            " |  This is equivalent to (real + imag*1j) where imag defaults to 0.\n",
            " |  \n",
            " |  Methods defined here:\n",
            " |  \n",
            " |  __abs__(self, /)\n",
            " |      abs(self)\n",
            " |  \n",
            " |  __add__(self, value, /)\n",
            " |      Return self+value.\n",
            " |  \n",
            " |  __bool__(self, /)\n",
            " |      self != 0\n",
            " |  \n",
            " |  __divmod__(self, value, /)\n",
            " |      Return divmod(self, value).\n",
            " |  \n",
            " |  __eq__(self, value, /)\n",
            " |      Return self==value.\n",
            " |  \n",
            " |  __float__(self, /)\n",
            " |      float(self)\n",
            " |  \n",
            " |  __floordiv__(self, value, /)\n",
            " |      Return self//value.\n",
            " |  \n",
            " |  __format__(...)\n",
            " |      complex.__format__() -> str\n",
            " |      \n",
            " |      Convert to a string according to format_spec.\n",
            " |  \n",
            " |  __ge__(self, value, /)\n",
            " |      Return self>=value.\n",
            " |  \n",
            " |  __getattribute__(self, name, /)\n",
            " |      Return getattr(self, name).\n",
            " |  \n",
            " |  __getnewargs__(...)\n",
            " |  \n",
            " |  __gt__(self, value, /)\n",
            " |      Return self>value.\n",
            " |  \n",
            " |  __hash__(self, /)\n",
            " |      Return hash(self).\n",
            " |  \n",
            " |  __int__(self, /)\n",
            " |      int(self)\n",
            " |  \n",
            " |  __le__(self, value, /)\n",
            " |      Return self<=value.\n",
            " |  \n",
            " |  __lt__(self, value, /)\n",
            " |      Return self<value.\n",
            " |  \n",
            " |  __mod__(self, value, /)\n",
            " |      Return self%value.\n",
            " |  \n",
            " |  __mul__(self, value, /)\n",
            " |      Return self*value.\n",
            " |  \n",
            " |  __ne__(self, value, /)\n",
            " |      Return self!=value.\n",
            " |  \n",
            " |  __neg__(self, /)\n",
            " |      -self\n",
            " |  \n",
            " |  __new__(*args, **kwargs) from builtins.type\n",
            " |      Create and return a new object.  See help(type) for accurate signature.\n",
            " |  \n",
            " |  __pos__(self, /)\n",
            " |      +self\n",
            " |  \n",
            " |  __pow__(self, value, mod=None, /)\n",
            " |      Return pow(self, value, mod).\n",
            " |  \n",
            " |  __radd__(self, value, /)\n",
            " |      Return value+self.\n",
            " |  \n",
            " |  __rdivmod__(self, value, /)\n",
            " |      Return divmod(value, self).\n",
            " |  \n",
            " |  __repr__(self, /)\n",
            " |      Return repr(self).\n",
            " |  \n",
            " |  __rfloordiv__(self, value, /)\n",
            " |      Return value//self.\n",
            " |  \n",
            " |  __rmod__(self, value, /)\n",
            " |      Return value%self.\n",
            " |  \n",
            " |  __rmul__(self, value, /)\n",
            " |      Return value*self.\n",
            " |  \n",
            " |  __rpow__(self, value, mod=None, /)\n",
            " |      Return pow(value, self, mod).\n",
            " |  \n",
            " |  __rsub__(self, value, /)\n",
            " |      Return value-self.\n",
            " |  \n",
            " |  __rtruediv__(self, value, /)\n",
            " |      Return value/self.\n",
            " |  \n",
            " |  __str__(self, /)\n",
            " |      Return str(self).\n",
            " |  \n",
            " |  __sub__(self, value, /)\n",
            " |      Return self-value.\n",
            " |  \n",
            " |  __truediv__(self, value, /)\n",
            " |      Return self/value.\n",
            " |  \n",
            " |  conjugate(...)\n",
            " |      complex.conjugate() -> complex\n",
            " |      \n",
            " |      Return the complex conjugate of its argument. (3-4j).conjugate() == 3+4j.\n",
            " |  \n",
            " |  ----------------------------------------------------------------------\n",
            " |  Data descriptors defined here:\n",
            " |  \n",
            " |  imag\n",
            " |      the imaginary part of a complex number\n",
            " |  \n",
            " |  real\n",
            " |      the real part of a complex number\n",
            "\n"
          ],
          "name": "stdout"
        }
      ]
    },
    {
      "cell_type": "code",
      "metadata": {
        "id": "s8Z6DRGJQONb",
        "colab_type": "code",
        "colab": {}
      },
      "source": [
        "?complex\n"
      ],
      "execution_count": 0,
      "outputs": []
    },
    {
      "cell_type": "markdown",
      "metadata": {
        "id": "up_OCH-_Qa_D",
        "colab_type": "text"
      },
      "source": [
        "### 4.Multiple arguments\n"
      ]
    },
    {
      "cell_type": "code",
      "metadata": {
        "id": "MTaZFFHmRexK",
        "colab_type": "code",
        "colab": {
          "base_uri": "https://localhost:8080/",
          "height": 85
        },
        "outputId": "fd83b901-9cf8-4245-b7ca-1e2dc9f3008e"
      },
      "source": [
        "a = [1, 3, 7, 9]\n",
        "b = [2, 4, 8, 10]\n",
        "\n",
        "c = a + b \n",
        "print(c)\n",
        "print('---'*24)\n",
        "# Order the number string\n",
        "normal_order = sorted(c)\n",
        "inverse_order = sorted(c,reverse=True)\n",
        "\n",
        "print(normal_order)\n",
        "print(inverse_order)"
      ],
      "execution_count": 23,
      "outputs": [
        {
          "output_type": "stream",
          "text": [
            "[1, 3, 7, 9, 2, 4, 8, 10]\n",
            "------------------------------------------------------------------------\n",
            "[1, 2, 3, 4, 7, 8, 9, 10]\n",
            "[10, 9, 8, 7, 4, 3, 2, 1]\n"
          ],
          "name": "stdout"
        }
      ]
    }
  ]
}