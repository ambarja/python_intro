{
  "nbformat": 4,
  "nbformat_minor": 0,
  "metadata": {
    "colab": {
      "name": "py_session01.ipynb",
      "provenance": [],
      "collapsed_sections": [],
      "toc_visible": true,
      "include_colab_link": true
    },
    "kernelspec": {
      "name": "python3",
      "display_name": "Python 3"
    }
  },
  "cells": [
    {
      "cell_type": "markdown",
      "metadata": {
        "id": "view-in-github",
        "colab_type": "text"
      },
      "source": [
        "<a href=\"https://colab.research.google.com/github/barja8/python_intro/blob/master/session/py_session01.ipynb\" target=\"_parent\"><img src=\"https://colab.research.google.com/assets/colab-badge.svg\" alt=\"Open In Colab\"/></a>"
      ]
    },
    {
      "cell_type": "markdown",
      "metadata": {
        "id": "9ASVtIBMRIHm",
        "colab_type": "text"
      },
      "source": [
        "# **Introduction to python** \n",
        "**¿What is python?**\n",
        "\n",
        "Python is a versatile programing language in different aspects and also is considered how the first programing language to do **data science** \n",
        "the same that R.\n"
      ]
    },
    {
      "cell_type": "markdown",
      "metadata": {
        "id": "0_scAnLDVWX1",
        "colab_type": "text"
      },
      "source": [
        "### **1.Comments in python (#)**\n",
        "Put the comments are very important to remember about the functions and purpose to scripts, in the future o when you share your code with another person it will be more simple and easy.\n"
      ]
    },
    {
      "cell_type": "code",
      "metadata": {
        "id": "co_-jOiwXm2S",
        "colab_type": "code",
        "outputId": "35465d34-515a-4cf5-b762-f88e347dd8a3",
        "colab": {
          "base_uri": "https://localhost:8080/",
          "height": 34
        }
      },
      "source": [
        "# My first hello spatial world in python ← it is a comment \n",
        "print('Hello spatial world')"
      ],
      "execution_count": 0,
      "outputs": [
        {
          "output_type": "stream",
          "text": [
            "Hello spatial world\n"
          ],
          "name": "stdout"
        }
      ]
    },
    {
      "cell_type": "markdown",
      "metadata": {
        "id": "X3NK3kxwY6QS",
        "colab_type": "text"
      },
      "source": [
        "### **2.Python as a calculator**\n",
        " In python you can to do differents math operation, it is very easy and fast!\n"
      ]
    },
    {
      "cell_type": "code",
      "metadata": {
        "id": "eLhbiEmDZxFh",
        "colab_type": "code",
        "outputId": "b9f8974e-9fa6-4b14-fb47-683704110ed5",
        "colab": {
          "base_uri": "https://localhost:8080/",
          "height": 136
        }
      },
      "source": [
        "# Basic operations\n",
        "print('The sum of 12  + 23 is :', 12 + 23)         # Addition\n",
        "print('The substraction of 5 - 34 is:', 5 - 34)    # Substraction  \n",
        "print('The multiplicatin of 3 x 5 is:', 3 * 5 )    # Multiplication\n",
        "print('La division of 3 / 5 is:', 3 / 5)           # Division\n",
        "\n",
        "# Other operations \n",
        "print(2 ** 4)        # Exponents\n",
        "print(10 % 3)        # Remainder\n",
        "print(125 ** (1/3))  # Parentheses"
      ],
      "execution_count": 0,
      "outputs": [
        {
          "output_type": "stream",
          "text": [
            "The sum of 12  + 23 is : 35\n",
            "The substraction of 5 - 34 is: -29\n",
            "The multiplicatin of 3 x 5 is: 15\n",
            "La division of 3 / 5 is: 0.6\n",
            "16\n",
            "1\n",
            "4.999999999999999\n"
          ],
          "name": "stdout"
        }
      ]
    },
    {
      "cell_type": "markdown",
      "metadata": {
        "id": "2Z52i5AAd2i7",
        "colab_type": "text"
      },
      "source": [
        "### **3.Types of variables**\n",
        "In python there are four type of variables, these are:\n",
        "* __int:__ Integer  \n",
        "* __float:__ Float\n",
        "* __bool:__ Boolean\n",
        "* __str:__ Strings\n",
        "\n",
        "Now, you can guess the type of variable with a function **type()**"
      ]
    },
    {
      "cell_type": "code",
      "metadata": {
        "id": "MHJzfxAtfEnJ",
        "colab_type": "code",
        "outputId": "b5e805d4-94c5-4989-e7f7-108d6953a352",
        "colab": {
          "base_uri": "https://localhost:8080/",
          "height": 136
        }
      },
      "source": [
        "print('This is a variable of type:',type(15))\n",
        "print('\\nThis is a variable of type:', type(12.45))\n",
        "print('\\nThis is a variable of type:', type('Konoa'))\n",
        "print('\\nThis is a variable of type:', type(True))\n"
      ],
      "execution_count": 0,
      "outputs": [
        {
          "output_type": "stream",
          "text": [
            "This is a variable of type: <class 'int'>\n",
            "\n",
            "This is a variable of type: <class 'float'>\n",
            "\n",
            "This is a variable of type: <class 'str'>\n",
            "\n",
            "This is a variable of type: <class 'bool'>\n"
          ],
          "name": "stdout"
        }
      ]
    },
    {
      "cell_type": "markdown",
      "metadata": {
        "id": "lWsde1mKswrH",
        "colab_type": "text"
      },
      "source": [
        "### **4.Variable assignment**\n",
        "**¿What is a variable?**\n",
        "\n",
        "A variable allows you to refer to a value with a name.\n",
        "To create a variable you have to \"=\".\n",
        "\n",
        "For example, Marcos (m) is 24 years old, also:\n",
        "m = 24 \n"
      ]
    },
    {
      "cell_type": "code",
      "metadata": {
        "id": "Nris0YMvv_YM",
        "colab_type": "code",
        "outputId": "a820c8b9-8f23-4120-8b0a-e71b7691a0b2",
        "colab": {
          "base_uri": "https://localhost:8080/",
          "height": 119
        }
      },
      "source": [
        "# Creation of variable call it m with a value of 24\n",
        "m = 24    \n",
        "# For print the value we use the function **print(variable's name)**\n",
        "print('Marcos is',m,'years old')\n",
        "print('----'*24)\n",
        "\n",
        "# Other examples:\n",
        "she = 'Kanao'\n",
        "descrip = ' has beautiful eyes :3'\n",
        "print('Kimetzu no Yaiba:',she + descrip)\n",
        "print('----'*24)\n",
        "\n",
        "# In Chosica the temperature now (02/jan/2020) is of 25.5°C, also:\n",
        "temp = 25.5\n",
        "year = 2020\n",
        "month = 'january'\n",
        "day = 2\n",
        "city = 'Chosica'\n",
        "\n",
        "print('date:',day,'/',month,'/',year,\n",
        "      '\\nThe temperature in ',city,'is of',temp,'°C')\n"
      ],
      "execution_count": 0,
      "outputs": [
        {
          "output_type": "stream",
          "text": [
            "Marcos is 24 years old\n",
            "------------------------------------------------------------------------------------------------\n",
            "Kimetzu no Yaiba: Kanao has beautiful eyes :3\n",
            "------------------------------------------------------------------------------------------------\n",
            "date: 2 / january / 2020 \n",
            "The temperature in  Chosica is of 25.5 °C\n"
          ],
          "name": "stdout"
        }
      ]
    },
    {
      "cell_type": "markdown",
      "metadata": {
        "id": "JvwxW6v04LfF",
        "colab_type": "text"
      },
      "source": [
        "### **5.Calculations with variables**\n",
        "When you have different types of variable, you can to do different operations with this \n"
      ]
    },
    {
      "cell_type": "code",
      "metadata": {
        "id": "ooFARtuz5dGj",
        "colab_type": "code",
        "outputId": "ec52c5c8-d238-4312-e68b-d00d1c4e0c0f",
        "colab": {
          "base_uri": "https://localhost:8080/",
          "height": 68
        }
      },
      "source": [
        "# In the meteorological station in Ica has registered history of temperature from 1990 to 2020.\n",
        "# Temperature january 2020: 27.5°C\n",
        "# Temperature january 2010: 25.05°C\n",
        "# Temperature january 2000: 22.12°C\n",
        "# Temperature january 1990: 20.05°C \n",
        "# So, what are the mean temperature and your standard deviation? \n",
        "\n",
        "# Registered history of temperature \n",
        "temp_2020 = 27.5\n",
        "temp_2010 = 25.05\n",
        "temp_2000 = 22.12\n",
        "temp_1990 = 20.05\n",
        "\n",
        "# Mean y standard deviation of temperature are:\n",
        "mean_temp = (temp_2020 + temp_2010 + temp_2000 + temp_1990)/4\n",
        "sd_temp = ((temp_2020 - mean_temp)**2 + (temp_2010 - mean_temp)**2 + \n",
        "           (temp_2000 - mean_temp)**2 + (temp_1990 - mean_temp)**2)/(4 - 1)\n",
        "\n",
        "print('The mean temperature for the meteorological station of Ica is:',mean_temp,'°C')\n",
        "print('\\nThe standard deviation of the temperature is:',round(sd_temp,2),'°C')\n",
        "\n"
      ],
      "execution_count": 0,
      "outputs": [
        {
          "output_type": "stream",
          "text": [
            "The mean temperature for the meteorological station of Ica is: 23.68 °C\n",
            "\n",
            "The standard deviation of the temperature is: 10.69 °C\n"
          ],
          "name": "stdout"
        }
      ]
    },
    {
      "cell_type": "markdown",
      "metadata": {
        "id": "NRsuK8ty_1te",
        "colab_type": "text"
      },
      "source": [
        "### **6.Type conversion**\n",
        "In python you can to transform a type of variable to other type with the function:\n",
        "\n",
        "* __str()__   : strings\n",
        "* __int()__   : integer\n",
        "* __float()__ : float\n",
        "* __bool()__  : boolean\n",
        "\n",
        "Exercise:\n",
        "In this case the variable of temp_mean of that type is?   \n",
        "\n",
        "temp_mean = '23.68'\n",
        "\n",
        "and after, you have to transform to a floating type number with the function shown previously\n",
        "\n"
      ]
    },
    {
      "cell_type": "code",
      "metadata": {
        "id": "919wO9_ICZ3W",
        "colab_type": "code",
        "outputId": "72cae42f-823a-4fdc-d23c-b698669e0115",
        "colab": {
          "base_uri": "https://localhost:8080/",
          "height": 51
        }
      },
      "source": [
        "# The temperature is:\n",
        "temp_mean = '23.68'\n",
        "print('The mean temperature is:',temp_mean, 'and is of type:',type(temp_mean))\n",
        "\n",
        "# Using the function float()\n",
        "temp_mean = float(temp_mean)\n",
        "print('The temperature is:', temp_mean,'and is of type', type(temp_mean))\n"
      ],
      "execution_count": 0,
      "outputs": [
        {
          "output_type": "stream",
          "text": [
            "The mean temperature is: 23.68 and is of type: <class 'str'>\n",
            "The temperature is: 23.68 and is of type <class 'float'>\n"
          ],
          "name": "stdout"
        }
      ]
    },
    {
      "cell_type": "markdown",
      "metadata": {
        "id": "4Ho7fK86G3Z8",
        "colab_type": "text"
      },
      "source": [
        "##### *It is the end of the first sesion 001  :3*\n",
        "\n"
      ]
    }
  ]
}