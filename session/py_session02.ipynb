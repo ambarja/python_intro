{
  "nbformat": 4,
  "nbformat_minor": 0,
  "metadata": {
    "colab": {
      "name": "py_session02.ipynb",
      "provenance": [],
      "collapsed_sections": [],
      "toc_visible": true,
      "include_colab_link": true
    },
    "kernelspec": {
      "name": "python3",
      "display_name": "Python 3"
    }
  },
  "cells": [
    {
      "cell_type": "markdown",
      "metadata": {
        "id": "view-in-github",
        "colab_type": "text"
      },
      "source": [
        "<a href=\"https://colab.research.google.com/github/barja8/python_intro/blob/master/session/py_session02.ipynb\" target=\"_parent\"><img src=\"https://colab.research.google.com/assets/colab-badge.svg\" alt=\"Open In Colab\"/></a>"
      ]
    },
    {
      "cell_type": "markdown",
      "metadata": {
        "id": "BVd-G1iIHUvO",
        "colab_type": "text"
      },
      "source": [
        "# Python List\n",
        "In this session we go practice about of the list in python, so What is a list ? \n",
        "\n",
        "A list is a compound of the different data type.\n",
        "For example, we go create a new list with the next syntax is: \n",
        "\n",
        "\n",
        "\n"
      ]
    },
    {
      "cell_type": "markdown",
      "metadata": {
        "id": "tT-hdIBFLHuf",
        "colab_type": "text"
      },
      "source": [
        "### 1.Created a List\n",
        "\n",
        "m = '24 years old' \n",
        "\n",
        "name = 'antony'\n",
        "\n",
        "dream = 'spatial data scientist'\n",
        "\n",
        "new_list = [m, name, dream]\n",
        "print(new_list, type(new_list))"
      ]
    },
    {
      "cell_type": "code",
      "metadata": {
        "id": "6i4Av0pEI7S2",
        "colab_type": "code",
        "outputId": "c02e8904-0cdb-49cc-bb44-51089213b6fd",
        "colab": {
          "base_uri": "https://localhost:8080/",
          "height": 102
        }
      },
      "source": [
        "# We replicate the code previously mentioned:\n",
        "m = '24 years old' \n",
        "name = 'antony'\n",
        "dream = 'spatial data scientistic'\n",
        "\n",
        "# Identify variable types\n",
        "print(type(m))\n",
        "print(type(name))\n",
        "print(type(dream))\n",
        "print('---'*24)\n",
        "\n",
        "# We create the new list of the next shape:\n",
        "new_list = [name, m, dream]\n",
        "\n",
        "# output the new list with the variable type:\n",
        "print(new_list,type(new_list))"
      ],
      "execution_count": 0,
      "outputs": [
        {
          "output_type": "stream",
          "text": [
            "<class 'str'>\n",
            "<class 'str'>\n",
            "<class 'str'>\n",
            "------------------------------------------------------------------------\n",
            "['antony', '24 years old', 'spatial data scientistic'] <class 'list'>\n"
          ],
          "name": "stdout"
        }
      ]
    },
    {
      "cell_type": "markdown",
      "metadata": {
        "id": "LJceMRpMKVNu",
        "colab_type": "text"
      },
      "source": [
        "### 2.Created list with different types\n",
        "Now we go create new variable types and at the end, we included in the new list."
      ]
    },
    {
      "cell_type": "code",
      "metadata": {
        "id": "--fVPHYtPz_E",
        "colab_type": "code",
        "outputId": "4c9ff9a5-1333-461d-819b-84f69c9d74ae",
        "colab": {
          "base_uri": "https://localhost:8080/",
          "height": 119
        }
      },
      "source": [
        "# Information about a meteorological station in Huancayo\n",
        "# Maximum mean temperature (max_mena_temp) : 18.4°C\n",
        "# Minimum mean temperature (min_mean_temp) : 04 °C\n",
        "# Station (stat): Huaychulo \n",
        "# Altitude (alt): 3250 msnm\n",
        "\n",
        "# Creating new variables:\n",
        "max_mean_temp = 18.4\n",
        "min_men_temp = 4\n",
        "stat = 'Huaychulo'\n",
        "alt = 3250\n",
        "\n",
        "# Indentify the variable types\n",
        "print(type(max_mean_temp))\n",
        "print(type(min_men_temp))\n",
        "print(type(stat))\n",
        "print(type(alt))\n",
        "print('---'*24)\n",
        "\n",
        "# new list called information (info)\n",
        "info = [stat, alt, max_mean_temp, min_men_temp]\n",
        "print(info, type(info))"
      ],
      "execution_count": 0,
      "outputs": [
        {
          "output_type": "stream",
          "text": [
            "<class 'float'>\n",
            "<class 'int'>\n",
            "<class 'str'>\n",
            "<class 'int'>\n",
            "------------------------------------------------------------------------\n",
            "['Huaychulo', 3250, 18.4, 4] <class 'list'>\n"
          ],
          "name": "stdout"
        }
      ]
    },
    {
      "cell_type": "markdown",
      "metadata": {
        "id": "tOPZC5kdXmH0",
        "colab_type": "text"
      },
      "source": [
        "### 3.Indentify the position index in a list\n",
        "Is very important that you understand  position index in a list of python, because after we will indentify or extract a subset of data of a list.\n",
        "\n"
      ]
    },
    {
      "cell_type": "code",
      "metadata": {
        "id": "Vr19lNoCdFpm",
        "colab_type": "code",
        "outputId": "ebca619f-bec9-4b01-a752-2ac0be774967",
        "colab": {
          "base_uri": "https://localhost:8080/",
          "height": 51
        }
      },
      "source": [
        "# Positon index in list of python**\n",
        "\n",
        "#      0   1   2   3   4   5  \n",
        "x = [ 'a','n','t','o','n','y']\n",
        "#     -6  -5  -4  -3  -2   -1\n",
        "\n",
        "# Observation: The numeric value that is in the top and down is the position \n",
        "#              index, also\n",
        "\n",
        "# x[1] = ? and x[-3] = ?\n",
        "# What is the value ? I think that is is very easy :v\n",
        "print('x[1] is = ',x[1])\n",
        "print('x[2] is = ',x[-3])"
      ],
      "execution_count": 0,
      "outputs": [
        {
          "output_type": "stream",
          "text": [
            "x[1] is =  n\n",
            "x[2] is =  o\n"
          ],
          "name": "stdout"
        }
      ]
    },
    {
      "cell_type": "markdown",
      "metadata": {
        "id": "z1hjvSHpfo_X",
        "colab_type": "text"
      },
      "source": [
        "### 4.List of list \n",
        "You can to create a list that contains another list, it  is available in python using the next syntaxis:"
      ]
    },
    {
      "cell_type": "code",
      "metadata": {
        "id": "kf4hpL5X0R_l",
        "colab_type": "code",
        "outputId": "4221aa9a-90e8-450d-945c-335ac312d8fa",
        "colab": {
          "base_uri": "https://localhost:8080/",
          "height": 88
        }
      },
      "source": [
        "x = [['Meteorological station','Huaychulo'],\n",
        "     ['Mean maximum temperature',18.4],\n",
        "     ['Mean minimum temperature',4],\n",
        "     ['Altitude',3250]\n",
        "     ]\n",
        "\n",
        "print(x)\n",
        "print(type(x))\n",
        "\n",
        "# Observation: You can calculate the length about your list using the function len()\n",
        "len(x)\n",
        "print('the lenght of the list is:', len(x))"
      ],
      "execution_count": 0,
      "outputs": [
        {
          "output_type": "stream",
          "text": [
            "[['Meteorological station', 'Huaychulo'], ['Mean maximum temperature', 18.4], ['Mean minimum temperature', 4], ['Altitude', 3250]]\n",
            "<class 'list'>\n",
            "the lenght of the list is: 4\n"
          ],
          "name": "stdout"
        }
      ]
    },
    {
      "cell_type": "markdown",
      "metadata": {
        "id": "VJ0yLZxG2eup",
        "colab_type": "text"
      },
      "source": [
        "### 5.Subset and conquer \n",
        "In this part, we go extract a specific value of the list using the index of the position.\n"
      ]
    },
    {
      "cell_type": "code",
      "metadata": {
        "id": "FXV1M4BK36NT",
        "colab_type": "code",
        "outputId": "c292ca28-4bfc-4714-b16b-40249657778e",
        "colab": {
          "base_uri": "https://localhost:8080/",
          "height": 119
        }
      },
      "source": [
        "x = ['antony','barja', 24, 'u.u']\n",
        "print(x)\n",
        "print('---'*24)\n",
        "print(type(x))\n",
        "\n",
        "# Extract value index:\n",
        "print(x[0])\n",
        "print(x[1])\n",
        "print('Smile!',x[-1])\n"
      ],
      "execution_count": 0,
      "outputs": [
        {
          "output_type": "stream",
          "text": [
            "['antony', 'barja', 24, 'u.u']\n",
            "------------------------------------------------------------------------\n",
            "<class 'list'>\n",
            "antony\n",
            "barja\n",
            "Smile! u.u\n"
          ],
          "name": "stdout"
        }
      ]
    },
    {
      "cell_type": "markdown",
      "metadata": {
        "id": "4AdywSPu5z1r",
        "colab_type": "text"
      },
      "source": [
        "### 6.Subset and calculate\n",
        "After of extracted some especific values, we can to do additional caculations.\n"
      ]
    },
    {
      "cell_type": "code",
      "metadata": {
        "id": "EsXduc0T6KFs",
        "colab_type": "code",
        "outputId": "ea887f23-228a-4ace-f74c-c644ff55cace",
        "colab": {
          "base_uri": "https://localhost:8080/",
          "height": 51
        }
      },
      "source": [
        "x = ['geography',' is',' special']\n",
        "print(x[0] + x[2])\n",
        "\n",
        "y = ['a', 'b' ,'c','d','e']\n",
        "print(y[1] + y[2])"
      ],
      "execution_count": 0,
      "outputs": [
        {
          "output_type": "stream",
          "text": [
            "geography special\n",
            "bc\n"
          ],
          "name": "stdout"
        }
      ]
    },
    {
      "cell_type": "markdown",
      "metadata": {
        "id": "Fd83qyA18vD-",
        "colab_type": "text"
      },
      "source": [
        "### 7.Slicing and dicing \n",
        "Is possible extract value multiple of a list usign the next syntaxis:\n",
        "\n",
        "**my_list[start: end]**\n",
        "\n",
        "*observation:* The start index will be included, but the end index is not."
      ]
    },
    {
      "cell_type": "code",
      "metadata": {
        "id": "wx1j3iOX-shS",
        "colab_type": "code",
        "outputId": "72574ed7-0053-4a81-9a56-f9a41aff329e",
        "colab": {
          "base_uri": "https://localhost:8080/",
          "height": 119
        }
      },
      "source": [
        "x = ['spatial','data','science','R','Python','QGIS']\n",
        "print(x)\n",
        "print(x[2:])\n",
        "print(x[:-3])\n",
        "print(x[-3:])\n",
        "print(x[1:])\n",
        "print(x[:-1])"
      ],
      "execution_count": 0,
      "outputs": [
        {
          "output_type": "stream",
          "text": [
            "['spatial', 'data', 'science', 'R', 'Python', 'QGIS']\n",
            "['science', 'R', 'Python', 'QGIS']\n",
            "['spatial', 'data', 'science']\n",
            "['R', 'Python', 'QGIS']\n",
            "['data', 'science', 'R', 'Python', 'QGIS']\n",
            "['spatial', 'data', 'science', 'R', 'Python']\n"
          ],
          "name": "stdout"
        }
      ]
    },
    {
      "cell_type": "markdown",
      "metadata": {
        "id": "2QxmAziEA0bE",
        "colab_type": "text"
      },
      "source": [
        "### 8.Subsetting list of list\n"
      ]
    },
    {
      "cell_type": "code",
      "metadata": {
        "id": "t9nFIFyGA_8n",
        "colab_type": "code",
        "outputId": "2734242b-9bbb-4b83-85f6-06cc3c2ad1ed",
        "colab": {
          "base_uri": "https://localhost:8080/",
          "height": 68
        }
      },
      "source": [
        "x = [['Apocalypsis','Neon moon', 'Affection','Hentai'],\n",
        "     ['Cigarette after sex','Keane','Nirvana'],\n",
        "     ['spotify','deezer','apple music'],\n",
        "     ['Slowcore']]\n",
        "\n",
        "x\n",
        "\n",
        "# Extract value for rowns and columns\n",
        "print(x[1][2])\n",
        "print(x[0][2:])\n",
        "print(x[0:][0])"
      ],
      "execution_count": 0,
      "outputs": [
        {
          "output_type": "stream",
          "text": [
            "Nirvana\n",
            "['Affection', 'Hentai']\n",
            "['Apocalypsis', 'Neon moon', 'Affection', 'Hentai']\n"
          ],
          "name": "stdout"
        }
      ]
    },
    {
      "cell_type": "markdown",
      "metadata": {
        "id": "9x3zULJ8Jk_o",
        "colab_type": "text"
      },
      "source": [
        "### 9.Replace list element"
      ]
    },
    {
      "cell_type": "code",
      "metadata": {
        "id": "c_w36SCFJret",
        "colab_type": "code",
        "outputId": "66515b1e-c8ab-48bd-898b-1657b3ff2d41",
        "colab": {
          "base_uri": "https://localhost:8080/",
          "height": 51
        }
      },
      "source": [
        "x = ['spatial','data','science','R','Python','QGIS']\n",
        "print(x)\n",
        "\n",
        "# Change value of QGIS  for Tableu and Python for Matlab\n",
        "x[-1] = 'Tableu'\n",
        "x[4] = 'Matlab'\n",
        "\n",
        "print(x)"
      ],
      "execution_count": 1,
      "outputs": [
        {
          "output_type": "stream",
          "text": [
            "['spatial', 'data', 'science', 'R', 'Python', 'QGIS']\n",
            "['spatial', 'data', 'science', 'R', 'Matlab', 'Tableu']\n"
          ],
          "name": "stdout"
        }
      ]
    },
    {
      "cell_type": "markdown",
      "metadata": {
        "id": "E8tK-QTuKroG",
        "colab_type": "text"
      },
      "source": [
        "### 10. Extend a List\n"
      ]
    },
    {
      "cell_type": "code",
      "metadata": {
        "id": "B9nNGB5JK_LK",
        "colab_type": "code",
        "colab": {
          "base_uri": "https://localhost:8080/",
          "height": 68
        },
        "outputId": "ba55b1bc-e6e0-4db0-c7ec-c6841d39cc1e"
      },
      "source": [
        "y = ['Geography', 'Geocomputation','New geography','GIScience']\n",
        "print(y)\n",
        "print('---'*24)\n",
        "# New terminology is Geography\n",
        "z = y + ['Spatial data science']\n",
        "print(z)\n"
      ],
      "execution_count": 18,
      "outputs": [
        {
          "output_type": "stream",
          "text": [
            "['Geography', 'Geocomputation', 'New geography', 'GIScience']\n",
            "------------------------------------------------------------------------\n",
            "['Geography', 'Geocomputation', 'New geography', 'GIScience', 'Spatial data science']\n"
          ],
          "name": "stdout"
        }
      ]
    },
    {
      "cell_type": "markdown",
      "metadata": {
        "id": "jWnqxhnJM6Lh",
        "colab_type": "text"
      },
      "source": [
        "### 11.Delete list element \n",
        "Is possible delete an element  of the list, always  and when we using the position index of the variables.\n",
        "\n",
        "We go to use a new function: **del()**"
      ]
    },
    {
      "cell_type": "code",
      "metadata": {
        "id": "HonceqvsNkTk",
        "colab_type": "code",
        "colab": {
          "base_uri": "https://localhost:8080/",
          "height": 68
        },
        "outputId": "eeb0632d-291c-4721-bebe-f3c4bcc02850"
      },
      "source": [
        "m = ['R', 'Spatial data science','Geocomputation',\n",
        "     'GIScience','FOSS4G', 'QGIS', 'Python']\n",
        "print(m)\n",
        "\n",
        "# Remove of the list: FOSS4G  and R \n",
        "del(m[0])\n",
        "del(m[-3])\n",
        "print(m)"
      ],
      "execution_count": 26,
      "outputs": [
        {
          "output_type": "stream",
          "text": [
            "['R', 'Spatial data science', 'Geocomputation', 'GIScience', 'FOSS4G', 'QGIS', 'Python']\n",
            "['Spatial data science', 'Geocomputation', 'GIScience', 'QGIS', 'Python']\n"
          ],
          "name": "stdout"
        },
        {
          "output_type": "execute_result",
          "data": {
            "text/plain": [
              "['Spatial data science', 'Geocomputation', 'GIScience', 'QGIS', 'Python']"
            ]
          },
          "metadata": {
            "tags": []
          },
          "execution_count": 26
        }
      ]
    },
    {
      "cell_type": "markdown",
      "metadata": {
        "id": "T-gnuP18O_4E",
        "colab_type": "text"
      },
      "source": [
        "### 12. Inner working of lists\n",
        "In this case, we go explained how python works with scenes on the list.\n",
        "\n"
      ]
    },
    {
      "cell_type": "code",
      "metadata": {
        "id": "88QgsLurPtAm",
        "colab_type": "code",
        "colab": {
          "base_uri": "https://localhost:8080/",
          "height": 102
        },
        "outputId": "a6a98279-0c59-48f2-a4d6-62fcc15323d0"
      },
      "source": [
        "x = ['R','QGIS','GEOda','Tableu','Python', 'Octave', 'JavaScript', 'Go']\n",
        "print(x, type(x))\n",
        "new_x = x \n",
        "new_x[-3] = 'PostGIS'\n",
        "print(x)\n",
        "\n",
        "\n",
        "# Now we will use the function list() or variable_name[:], also What is the difference? \n",
        "x = ['R','QGIS','GEOda','Tableu','Python', 'Octave', 'JavaScript', 'Go']\n",
        "print(x, type(x))\n",
        "new_x2 = list(x)\n",
        "new_x2[-1] = 'Html + Css'\n",
        "print(new_x2)\n",
        "print(x)\n",
        "\n"
      ],
      "execution_count": 34,
      "outputs": [
        {
          "output_type": "stream",
          "text": [
            "['R', 'QGIS', 'GEOda', 'Tableu', 'Python', 'Octave', 'JavaScript', 'Go'] <class 'list'>\n",
            "['R', 'QGIS', 'GEOda', 'Tableu', 'Python', 'PostGIS', 'JavaScript', 'Go']\n",
            "['R', 'QGIS', 'GEOda', 'Tableu', 'Python', 'Octave', 'JavaScript', 'Go'] <class 'list'>\n",
            "['R', 'QGIS', 'GEOda', 'Tableu', 'Python', 'Octave', 'JavaScript', 'Html + Css']\n",
            "['R', 'QGIS', 'GEOda', 'Tableu', 'Python', 'Octave', 'JavaScript', 'Go']\n"
          ],
          "name": "stdout"
        }
      ]
    }
  ]
}