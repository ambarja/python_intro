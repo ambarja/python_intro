{
  "nbformat": 4,
  "nbformat_minor": 0,
  "metadata": {
    "colab": {
      "name": "py_session02.ipynb",
      "provenance": [],
      "collapsed_sections": [],
      "toc_visible": true,
      "include_colab_link": true
    },
    "kernelspec": {
      "name": "python3",
      "display_name": "Python 3"
    }
  },
  "cells": [
    {
      "cell_type": "markdown",
      "metadata": {
        "id": "view-in-github",
        "colab_type": "text"
      },
      "source": [
        "<a href=\"https://colab.research.google.com/github/barja8/python_intro/blob/master/session/py_session02.ipynb\" target=\"_parent\"><img src=\"https://colab.research.google.com/assets/colab-badge.svg\" alt=\"Open In Colab\"/></a>"
      ]
    },
    {
      "cell_type": "markdown",
      "metadata": {
        "id": "BVd-G1iIHUvO",
        "colab_type": "text"
      },
      "source": [
        "# Python List\n",
        "In this session we go practice about of the list in python, so What is a list ? \n",
        "\n",
        "A list is a compound of the different data type.\n",
        "For example, we go create a new list with the next syntax is: \n",
        "\n",
        "\n",
        "\n"
      ]
    },
    {
      "cell_type": "markdown",
      "metadata": {
        "id": "tT-hdIBFLHuf",
        "colab_type": "text"
      },
      "source": [
        "### 1.Created a List\n",
        "\n",
        "m = '24 years old' \n",
        "\n",
        "name = 'antony'\n",
        "\n",
        "dream = 'spatial data scientist'\n",
        "\n",
        "new_list = [m, name, dream]\n",
        "print(new_list, type(new_list))"
      ]
    },
    {
      "cell_type": "code",
      "metadata": {
        "id": "6i4Av0pEI7S2",
        "colab_type": "code",
        "colab": {
          "base_uri": "https://localhost:8080/",
          "height": 102
        },
        "outputId": "c02e8904-0cdb-49cc-bb44-51089213b6fd"
      },
      "source": [
        "# We replicate the code previously mentioned:\n",
        "m = '24 years old' \n",
        "name = 'antony'\n",
        "dream = 'spatial data scientistic'\n",
        "\n",
        "# Identify variable types\n",
        "print(type(m))\n",
        "print(type(name))\n",
        "print(type(dream))\n",
        "print('---'*24)\n",
        "\n",
        "# We create the new list of the next shape:\n",
        "new_list = [name, m, dream]\n",
        "\n",
        "# output the new list with the variable type:\n",
        "print(new_list,type(new_list))"
      ],
      "execution_count": 21,
      "outputs": [
        {
          "output_type": "stream",
          "text": [
            "<class 'str'>\n",
            "<class 'str'>\n",
            "<class 'str'>\n",
            "------------------------------------------------------------------------\n",
            "['antony', '24 years old', 'spatial data scientistic'] <class 'list'>\n"
          ],
          "name": "stdout"
        }
      ]
    },
    {
      "cell_type": "markdown",
      "metadata": {
        "id": "LJceMRpMKVNu",
        "colab_type": "text"
      },
      "source": [
        "### 2.Created list with different types\n"
      ]
    }
  ]
}