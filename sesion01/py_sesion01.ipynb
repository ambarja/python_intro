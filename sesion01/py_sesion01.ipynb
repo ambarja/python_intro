{
  "nbformat": 4,
  "nbformat_minor": 0,
  "metadata": {
    "colab": {
      "name": "py_sesion01.ipynb",
      "provenance": [],
      "collapsed_sections": [],
      "toc_visible": true,
      "include_colab_link": true
    },
    "kernelspec": {
      "name": "python3",
      "display_name": "Python 3"
    }
  },
  "cells": [
    {
      "cell_type": "markdown",
      "metadata": {
        "id": "view-in-github",
        "colab_type": "text"
      },
      "source": [
        "<a href=\"https://colab.research.google.com/github/barja8/python_intro/blob/master/sesion01/py_sesion01.ipynb\" target=\"_parent\"><img src=\"https://colab.research.google.com/assets/colab-badge.svg\" alt=\"Open In Colab\"/></a>"
      ]
    },
    {
      "cell_type": "markdown",
      "metadata": {
        "id": "9ASVtIBMRIHm",
        "colab_type": "text"
      },
      "source": [
        "# **Introduction to python** \n",
        "¿What is python?\n",
        "\n",
        "Python is a versatile programing language in different aspects and also is considered how the first programing language to do **data science** \n",
        "the same that R.\n"
      ]
    },
    {
      "cell_type": "markdown",
      "metadata": {
        "id": "0_scAnLDVWX1",
        "colab_type": "text"
      },
      "source": [
        "### 1. Comments in python (#)\n",
        "Put the comments are very important to remember about the functions and purpose to scripts, in the future o when you share your code with another person it will be more simple and easy.\n"
      ]
    },
    {
      "cell_type": "code",
      "metadata": {
        "id": "co_-jOiwXm2S",
        "colab_type": "code",
        "colab": {
          "base_uri": "https://localhost:8080/",
          "height": 34
        },
        "outputId": "35465d34-515a-4cf5-b762-f88e347dd8a3"
      },
      "source": [
        "# My first hello spatial world in python ← it is a comment \n",
        "print('Hello spatial world')"
      ],
      "execution_count": 3,
      "outputs": [
        {
          "output_type": "stream",
          "text": [
            "Hello spatial world\n"
          ],
          "name": "stdout"
        }
      ]
    },
    {
      "cell_type": "markdown",
      "metadata": {
        "id": "X3NK3kxwY6QS",
        "colab_type": "text"
      },
      "source": [
        "### 2. Python as a calculator \n",
        " In python you can to do differents math operation, it is very easy and fast!\n",
        "\n"
      ]
    },
    {
      "cell_type": "code",
      "metadata": {
        "id": "eLhbiEmDZxFh",
        "colab_type": "code",
        "colab": {
          "base_uri": "https://localhost:8080/",
          "height": 136
        },
        "outputId": "b9f8974e-9fa6-4b14-fb47-683704110ed5"
      },
      "source": [
        "# Basic operations\n",
        "print('The sum of 12  + 23 is :', 12 + 23)         # Addition\n",
        "print('The substraction of 5 - 34 is:', 5 - 34)    # Substraction  \n",
        "print('The multiplicatin of 3 x 5 is:', 3 * 5 )    # Multiplication\n",
        "print('La division of 3 / 5 is:', 3 / 5)           # Division\n",
        "\n",
        "# Other operations \n",
        "print(2 ** 4)        # Exponents\n",
        "print(10 % 3)        # Remainder\n",
        "print(125 ** (1/3))  # Parentheses"
      ],
      "execution_count": 8,
      "outputs": [
        {
          "output_type": "stream",
          "text": [
            "The sum of 12  + 23 is : 35\n",
            "The substraction of 5 - 34 is: -29\n",
            "The multiplicatin of 3 x 5 is: 15\n",
            "La division of 3 / 5 is: 0.6\n",
            "16\n",
            "1\n",
            "4.999999999999999\n"
          ],
          "name": "stdout"
        }
      ]
    },
    {
      "cell_type": "markdown",
      "metadata": {
        "id": "2Z52i5AAd2i7",
        "colab_type": "text"
      },
      "source": [
        "### 3. Types of variables \n",
        "In python there are four type of variables, these are:\n",
        "* int: Integer  \n",
        "* float: Float\n",
        "* bool: Boolean\n",
        "* str: Strings\n",
        "\n",
        "Now, you can guess the type of variable with a function **type()**"
      ]
    },
    {
      "cell_type": "code",
      "metadata": {
        "id": "MHJzfxAtfEnJ",
        "colab_type": "code",
        "colab": {
          "base_uri": "https://localhost:8080/",
          "height": 68
        },
        "outputId": "4edd87c3-97dd-4846-f33b-c79f78748614"
      },
      "source": [
        "print('This is an variable of type:',type(15))\n",
        "print('\\nThis is an variable of type:', type(12.45))\n"
      ],
      "execution_count": 14,
      "outputs": [
        {
          "output_type": "stream",
          "text": [
            "This is an variable of type: <class 'int'>\n",
            "\n",
            "This is an variable of type: <class 'float'>\n"
          ],
          "name": "stdout"
        }
      ]
    }
  ]
}