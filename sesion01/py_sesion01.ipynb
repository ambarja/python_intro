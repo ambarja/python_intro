{
  "nbformat": 4,
  "nbformat_minor": 0,
  "metadata": {
    "colab": {
      "name": "py_sesion01.ipynb",
      "provenance": [],
      "collapsed_sections": [],
      "toc_visible": true,
      "include_colab_link": true
    },
    "kernelspec": {
      "name": "python3",
      "display_name": "Python 3"
    }
  },
  "cells": [
    {
      "cell_type": "markdown",
      "metadata": {
        "id": "view-in-github",
        "colab_type": "text"
      },
      "source": [
        "<a href=\"https://colab.research.google.com/github/barja8/python_intro/blob/master/sesion01/py_sesion01.ipynb\" target=\"_parent\"><img src=\"https://colab.research.google.com/assets/colab-badge.svg\" alt=\"Open In Colab\"/></a>"
      ]
    },
    {
      "cell_type": "markdown",
      "metadata": {
        "id": "9ASVtIBMRIHm",
        "colab_type": "text"
      },
      "source": [
        "# **Introduction to python** \n",
        "¿What is python?\n",
        "\n",
        "Python is a versatile programing language in different aspects and also is considered how the first programing language to do **data science** \n",
        "the same that R.\n"
      ]
    },
    {
      "cell_type": "markdown",
      "metadata": {
        "id": "0_scAnLDVWX1",
        "colab_type": "text"
      },
      "source": [
        "### 1. Comments in python (#)\n",
        "Put the comments are very important to remember about the functions and purpose to scripts, in the future o when you share your code with another person it will be more simple and easy.\n",
        "**texto en negrita**"
      ]
    },
    {
      "cell_type": "code",
      "metadata": {
        "id": "co_-jOiwXm2S",
        "colab_type": "code",
        "colab": {
          "base_uri": "https://localhost:8080/",
          "height": 34
        },
        "outputId": "2b195fd3-caa0-4a59-fd39-6c6910a6afe2"
      },
      "source": [
        "# My first hello spatial world in python ← it is a comment \n",
        "print('Hello spatial world')"
      ],
      "execution_count": 1,
      "outputs": [
        {
          "output_type": "stream",
          "text": [
            "Hello spatial world\n"
          ],
          "name": "stdout"
        }
      ]
    }
  ]
}