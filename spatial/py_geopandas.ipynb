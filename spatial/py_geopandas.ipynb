{
  "nbformat": 4,
  "nbformat_minor": 0,
  "metadata": {
    "colab": {
      "name": "py_geopandas.ipynb",
      "provenance": [],
      "collapsed_sections": [],
      "authorship_tag": "ABX9TyNZPpjJbScxLoQgtcjLTpEQ",
      "include_colab_link": true
    },
    "kernelspec": {
      "name": "python3",
      "display_name": "Python 3"
    },
    "accelerator": "GPU"
  },
  "cells": [
    {
      "cell_type": "markdown",
      "metadata": {
        "id": "view-in-github",
        "colab_type": "text"
      },
      "source": [
        "<a href=\"https://colab.research.google.com/github/barja8/python_intro/blob/master/spatial/py_geopandas.ipynb\" target=\"_parent\"><img src=\"https://colab.research.google.com/assets/colab-badge.svg\" alt=\"Open In Colab\"/></a>"
      ]
    },
    {
      "cell_type": "markdown",
      "metadata": {
        "id": "shBPNnYfxQuM",
        "colab_type": "text"
      },
      "source": [
        "# Introduction to geopandas\n"
      ]
    },
    {
      "cell_type": "code",
      "metadata": {
        "id": "4KeNkAmbxWq_",
        "colab_type": "code",
        "outputId": "dedb74b7-21bc-41ec-aa75-a9931e5524ac",
        "colab": {
          "base_uri": "https://localhost:8080/",
          "height": 462
        }
      },
      "source": [
        "# Installation of geopandas library\n",
        "!pip install geopandas\n"
      ],
      "execution_count": 17,
      "outputs": [
        {
          "output_type": "stream",
          "text": [
            "Collecting geopandas\n",
            "\u001b[?25l  Downloading https://files.pythonhosted.org/packages/5b/0c/e6c99e561b03482220f00443f610ccf4dce9b50f4b1093d735f93c6fc8c6/geopandas-0.6.2-py2.py3-none-any.whl (919kB)\n",
            "\u001b[K     |████████████████████████████████| 921kB 3.5MB/s \n",
            "\u001b[?25hCollecting fiona\n",
            "\u001b[?25l  Downloading https://files.pythonhosted.org/packages/50/f7/9899f8a9a2e38601472fe1079ce5088f58833221c8b8507d8b5eafd5404a/Fiona-1.8.13-cp36-cp36m-manylinux1_x86_64.whl (11.8MB)\n",
            "\u001b[K     |████████████████████████████████| 11.8MB 13.1MB/s \n",
            "\u001b[?25hRequirement already satisfied: pandas>=0.23.0 in /usr/local/lib/python3.6/dist-packages (from geopandas) (0.25.3)\n",
            "Collecting pyproj\n",
            "\u001b[?25l  Downloading https://files.pythonhosted.org/packages/d6/70/eedc98cd52b86de24a1589c762612a98bea26cde649ffdd60c1db396cce8/pyproj-2.4.2.post1-cp36-cp36m-manylinux2010_x86_64.whl (10.1MB)\n",
            "\u001b[K     |████████████████████████████████| 10.1MB 24.5MB/s \n",
            "\u001b[?25hRequirement already satisfied: shapely in /usr/local/lib/python3.6/dist-packages (from geopandas) (1.6.4.post2)\n",
            "Collecting munch\n",
            "  Downloading https://files.pythonhosted.org/packages/cc/ab/85d8da5c9a45e072301beb37ad7f833cd344e04c817d97e0cc75681d248f/munch-2.5.0-py2.py3-none-any.whl\n",
            "Collecting cligj>=0.5\n",
            "  Downloading https://files.pythonhosted.org/packages/e4/be/30a58b4b0733850280d01f8bd132591b4668ed5c7046761098d665ac2174/cligj-0.5.0-py3-none-any.whl\n",
            "Requirement already satisfied: attrs>=17 in /usr/local/lib/python3.6/dist-packages (from fiona->geopandas) (19.3.0)\n",
            "Collecting click-plugins>=1.0\n",
            "  Downloading https://files.pythonhosted.org/packages/e9/da/824b92d9942f4e472702488857914bdd50f73021efea15b4cad9aca8ecef/click_plugins-1.1.1-py2.py3-none-any.whl\n",
            "Requirement already satisfied: six>=1.7 in /usr/local/lib/python3.6/dist-packages (from fiona->geopandas) (1.12.0)\n",
            "Requirement already satisfied: click<8,>=4.0 in /usr/local/lib/python3.6/dist-packages (from fiona->geopandas) (7.0)\n",
            "Requirement already satisfied: pytz>=2017.2 in /usr/local/lib/python3.6/dist-packages (from pandas>=0.23.0->geopandas) (2018.9)\n",
            "Requirement already satisfied: numpy>=1.13.3 in /usr/local/lib/python3.6/dist-packages (from pandas>=0.23.0->geopandas) (1.17.5)\n",
            "Requirement already satisfied: python-dateutil>=2.6.1 in /usr/local/lib/python3.6/dist-packages (from pandas>=0.23.0->geopandas) (2.6.1)\n",
            "Installing collected packages: munch, cligj, click-plugins, fiona, pyproj, geopandas\n",
            "Successfully installed click-plugins-1.1.1 cligj-0.5.0 fiona-1.8.13 geopandas-0.6.2 munch-2.5.0 pyproj-2.4.2.post1\n"
          ],
          "name": "stdout"
        }
      ]
    },
    {
      "cell_type": "code",
      "metadata": {
        "id": "3IxL4DF4xrSu",
        "colab_type": "code",
        "colab": {}
      },
      "source": [
        "# Activation of library \n",
        "import geopandas\n",
        "import pandas as pd "
      ],
      "execution_count": 0,
      "outputs": []
    },
    {
      "cell_type": "code",
      "metadata": {
        "id": "d2yT5LQJz3mm",
        "colab_type": "code",
        "colab": {}
      },
      "source": [
        "gdf = geopandas.read_file('https://github.com/barja8/SpatialDataPeru/raw/master/AdministrativeBoundaries/AministrativeBoundaries.gpkg')"
      ],
      "execution_count": 0,
      "outputs": []
    },
    {
      "cell_type": "code",
      "metadata": {
        "id": "wta0ipPE0N2G",
        "colab_type": "code",
        "outputId": "88028b35-c590-4d3a-d9d4-356e3e37d9ac",
        "colab": {
          "base_uri": "https://localhost:8080/",
          "height": 204
        }
      },
      "source": [
        "gdf.head()"
      ],
      "execution_count": 22,
      "outputs": [
        {
          "output_type": "execute_result",
          "data": {
            "text/html": [
              "<div>\n",
              "<style scoped>\n",
              "    .dataframe tbody tr th:only-of-type {\n",
              "        vertical-align: middle;\n",
              "    }\n",
              "\n",
              "    .dataframe tbody tr th {\n",
              "        vertical-align: top;\n",
              "    }\n",
              "\n",
              "    .dataframe thead th {\n",
              "        text-align: right;\n",
              "    }\n",
              "</style>\n",
              "<table border=\"1\" class=\"dataframe\">\n",
              "  <thead>\n",
              "    <tr style=\"text-align: right;\">\n",
              "      <th></th>\n",
              "      <th>NOMBDEP</th>\n",
              "      <th>FEC_ACT</th>\n",
              "      <th>FUENTE</th>\n",
              "      <th>AREA_KM2</th>\n",
              "      <th>geometry</th>\n",
              "    </tr>\n",
              "  </thead>\n",
              "  <tbody>\n",
              "    <tr>\n",
              "      <th>0</th>\n",
              "      <td>AMAZONAS</td>\n",
              "      <td>2018-01-01</td>\n",
              "      <td>INEI</td>\n",
              "      <td>39274.472</td>\n",
              "      <td>MULTIPOLYGON (((-77.81399 -2.99278, -77.81483 ...</td>\n",
              "    </tr>\n",
              "    <tr>\n",
              "      <th>1</th>\n",
              "      <td>ANCASH</td>\n",
              "      <td>2018-01-01</td>\n",
              "      <td>INEI</td>\n",
              "      <td>35912.706</td>\n",
              "      <td>MULTIPOLYGON (((-77.64692 -8.05086, -77.64669 ...</td>\n",
              "    </tr>\n",
              "    <tr>\n",
              "      <th>2</th>\n",
              "      <td>APURIMAC</td>\n",
              "      <td>2018-01-01</td>\n",
              "      <td>INEI</td>\n",
              "      <td>21104.916</td>\n",
              "      <td>MULTIPOLYGON (((-73.74632 -13.17456, -73.74570...</td>\n",
              "    </tr>\n",
              "    <tr>\n",
              "      <th>3</th>\n",
              "      <td>AREQUIPA</td>\n",
              "      <td>2018-01-01</td>\n",
              "      <td>INEI</td>\n",
              "      <td>63175.916</td>\n",
              "      <td>MULTIPOLYGON (((-71.98109 -14.64062, -71.98093...</td>\n",
              "    </tr>\n",
              "    <tr>\n",
              "      <th>4</th>\n",
              "      <td>AYACUCHO</td>\n",
              "      <td>2018-01-01</td>\n",
              "      <td>INEI</td>\n",
              "      <td>43527.396</td>\n",
              "      <td>MULTIPOLYGON (((-74.34843 -12.17503, -74.35000...</td>\n",
              "    </tr>\n",
              "  </tbody>\n",
              "</table>\n",
              "</div>"
            ],
            "text/plain": [
              "    NOMBDEP  ...                                           geometry\n",
              "0  AMAZONAS  ...  MULTIPOLYGON (((-77.81399 -2.99278, -77.81483 ...\n",
              "1    ANCASH  ...  MULTIPOLYGON (((-77.64692 -8.05086, -77.64669 ...\n",
              "2  APURIMAC  ...  MULTIPOLYGON (((-73.74632 -13.17456, -73.74570...\n",
              "3  AREQUIPA  ...  MULTIPOLYGON (((-71.98109 -14.64062, -71.98093...\n",
              "4  AYACUCHO  ...  MULTIPOLYGON (((-74.34843 -12.17503, -74.35000...\n",
              "\n",
              "[5 rows x 5 columns]"
            ]
          },
          "metadata": {
            "tags": []
          },
          "execution_count": 22
        }
      ]
    },
    {
      "cell_type": "code",
      "metadata": {
        "id": "MTlOK9bp0Y-1",
        "colab_type": "code",
        "outputId": "1e0e177b-5872-4b3c-f932-769bcdd4a213",
        "colab": {
          "base_uri": "https://localhost:8080/",
          "height": 282
        }
      },
      "source": [
        "gdf.plot()"
      ],
      "execution_count": 23,
      "outputs": [
        {
          "output_type": "execute_result",
          "data": {
            "text/plain": [
              "<matplotlib.axes._subplots.AxesSubplot at 0x7ffb676cd780>"
            ]
          },
          "metadata": {
            "tags": []
          },
          "execution_count": 23
        },
        {
          "output_type": "display_data",
          "data": {
            "image/png": "[encoded data removed]",
            "text/plain": [
              "<Figure size 432x288 with 1 Axes>"
            ]
          },
          "metadata": {
            "tags": []
          }
        }
      ]
    },
    {
      "cell_type": "code",
      "metadata": {
        "id": "UkPLTo2Z0cWu",
        "colab_type": "code",
        "outputId": "94336b02-c98a-471a-a047-4506f05071a8",
        "colab": {
          "base_uri": "https://localhost:8080/",
          "height": 510
        }
      },
      "source": [
        "print(gdf)\n",
        "type(gdf)"
      ],
      "execution_count": 24,
      "outputs": [
        {
          "output_type": "stream",
          "text": [
            "          NOMBDEP  ...                                           geometry\n",
            "0        AMAZONAS  ...  MULTIPOLYGON (((-77.81399 -2.99278, -77.81483 ...\n",
            "1          ANCASH  ...  MULTIPOLYGON (((-77.64692 -8.05086, -77.64669 ...\n",
            "2        APURIMAC  ...  MULTIPOLYGON (((-73.74632 -13.17456, -73.74570...\n",
            "3        AREQUIPA  ...  MULTIPOLYGON (((-71.98109 -14.64062, -71.98093...\n",
            "4        AYACUCHO  ...  MULTIPOLYGON (((-74.34843 -12.17503, -74.35000...\n",
            "5       CAJAMARCA  ...  MULTIPOLYGON (((-78.70034 -4.62769, -78.69817 ...\n",
            "6          CALLAO  ...  MULTIPOLYGON (((-77.12605 -11.82079, -77.12524...\n",
            "7           CUSCO  ...  MULTIPOLYGON (((-72.97280 -11.25189, -72.97134...\n",
            "8    HUANCAVELICA  ...  MULTIPOLYGON (((-74.57118 -11.98710, -74.57095...\n",
            "9         HUANUCO  ...  MULTIPOLYGON (((-75.99200 -8.32108, -75.99015 ...\n",
            "10            ICA  ...  MULTIPOLYGON (((-75.61136 -12.96649, -75.61103...\n",
            "11          JUNIN  ...  MULTIPOLYGON (((-75.03564 -10.68232, -75.03436...\n",
            "12    LA LIBERTAD  ...  MULTIPOLYGON (((-77.75753 -6.96579, -77.75638 ...\n",
            "13     LAMBAYEQUE  ...  MULTIPOLYGON (((-79.88373 -5.49283, -79.88265 ...\n",
            "14           LIMA  ...  MULTIPOLYGON (((-76.78117 -12.40917, -76.78144...\n",
            "15         LORETO  ...  MULTIPOLYGON (((-75.10004 -0.08096, -75.09485 ...\n",
            "16  MADRE DE DIOS  ...  MULTIPOLYGON (((-70.61369 -10.44784, -70.61365...\n",
            "17       MOQUEGUA  ...  MULTIPOLYGON (((-70.79388 -15.98721, -70.79486...\n",
            "18          PASCO  ...  MULTIPOLYGON (((-74.67824 -9.45239, -74.67644 ...\n",
            "19          PIURA  ...  MULTIPOLYGON (((-80.48552 -4.08443, -80.48403 ...\n",
            "20           PUNO  ...  MULTIPOLYGON (((-68.81422 -16.34799, -68.91839...\n",
            "21     SAN MARTIN  ...  MULTIPOLYGON (((-77.71678 -5.41597, -77.71270 ...\n",
            "22          TACNA  ...  MULTIPOLYGON (((-70.26604 -16.77955, -70.26474...\n",
            "23         TUMBES  ...  MULTIPOLYGON (((-80.28521 -3.41276, -80.28406 ...\n",
            "24        UCAYALI  ...  MULTIPOLYGON (((-74.47145 -7.27617, -74.47052 ...\n",
            "\n",
            "[25 rows x 5 columns]\n"
          ],
          "name": "stdout"
        },
        {
          "output_type": "execute_result",
          "data": {
            "text/plain": [
              "geopandas.geodataframe.GeoDataFrame"
            ]
          },
          "metadata": {
            "tags": []
          },
          "execution_count": 24
        }
      ]
    },
    {
      "cell_type": "code",
      "metadata": {
        "id": "Z6YPHd4j0srI",
        "colab_type": "code",
        "outputId": "f6c6bd04-020c-484c-a322-daa14453acb8",
        "colab": {
          "base_uri": "https://localhost:8080/",
          "height": 459
        }
      },
      "source": [
        "gdf.geometry"
      ],
      "execution_count": 25,
      "outputs": [
        {
          "output_type": "execute_result",
          "data": {
            "text/plain": [
              "0     MULTIPOLYGON (((-77.81399 -2.99278, -77.81483 ...\n",
              "1     MULTIPOLYGON (((-77.64692 -8.05086, -77.64669 ...\n",
              "2     MULTIPOLYGON (((-73.74632 -13.17456, -73.74570...\n",
              "3     MULTIPOLYGON (((-71.98109 -14.64062, -71.98093...\n",
              "4     MULTIPOLYGON (((-74.34843 -12.17503, -74.35000...\n",
              "5     MULTIPOLYGON (((-78.70034 -4.62769, -78.69817 ...\n",
              "6     MULTIPOLYGON (((-77.12605 -11.82079, -77.12524...\n",
              "7     MULTIPOLYGON (((-72.97280 -11.25189, -72.97134...\n",
              "8     MULTIPOLYGON (((-74.57118 -11.98710, -74.57095...\n",
              "9     MULTIPOLYGON (((-75.99200 -8.32108, -75.99015 ...\n",
              "10    MULTIPOLYGON (((-75.61136 -12.96649, -75.61103...\n",
              "11    MULTIPOLYGON (((-75.03564 -10.68232, -75.03436...\n",
              "12    MULTIPOLYGON (((-77.75753 -6.96579, -77.75638 ...\n",
              "13    MULTIPOLYGON (((-79.88373 -5.49283, -79.88265 ...\n",
              "14    MULTIPOLYGON (((-76.78117 -12.40917, -76.78144...\n",
              "15    MULTIPOLYGON (((-75.10004 -0.08096, -75.09485 ...\n",
              "16    MULTIPOLYGON (((-70.61369 -10.44784, -70.61365...\n",
              "17    MULTIPOLYGON (((-70.79388 -15.98721, -70.79486...\n",
              "18    MULTIPOLYGON (((-74.67824 -9.45239, -74.67644 ...\n",
              "19    MULTIPOLYGON (((-80.48552 -4.08443, -80.48403 ...\n",
              "20    MULTIPOLYGON (((-68.81422 -16.34799, -68.91839...\n",
              "21    MULTIPOLYGON (((-77.71678 -5.41597, -77.71270 ...\n",
              "22    MULTIPOLYGON (((-70.26604 -16.77955, -70.26474...\n",
              "23    MULTIPOLYGON (((-80.28521 -3.41276, -80.28406 ...\n",
              "24    MULTIPOLYGON (((-74.47145 -7.27617, -74.47052 ...\n",
              "Name: geometry, dtype: geometry"
            ]
          },
          "metadata": {
            "tags": []
          },
          "execution_count": 25
        }
      ]
    },
    {
      "cell_type": "code",
      "metadata": {
        "id": "m3HgKINK0xPO",
        "colab_type": "code",
        "outputId": "810626a0-44a9-4a6d-e233-500a604b6053",
        "colab": {
          "base_uri": "https://localhost:8080/",
          "height": 35
        }
      },
      "source": [
        "# What type of clase is gdf.geometry?\n",
        "type(gdf.geometry)"
      ],
      "execution_count": 0,
      "outputs": [
        {
          "output_type": "execute_result",
          "data": {
            "text/plain": [
              "geopandas.geoseries.GeoSeries"
            ]
          },
          "metadata": {
            "tags": []
          },
          "execution_count": 12
        }
      ]
    },
    {
      "cell_type": "code",
      "metadata": {
        "id": "gPCiS_Ud1Bi2",
        "colab_type": "code",
        "outputId": "ddef9af1-23da-4f0e-99a3-52e43b0bbbd5",
        "colab": {
          "base_uri": "https://localhost:8080/",
          "height": 459
        }
      },
      "source": [
        "gdf.geometry.area"
      ],
      "execution_count": 26,
      "outputs": [
        {
          "output_type": "execute_result",
          "data": {
            "text/plain": [
              "0      3.203362\n",
              "1      2.956468\n",
              "2      1.765933\n",
              "3      5.330046\n",
              "4      3.643362\n",
              "5      2.685561\n",
              "6      0.011734\n",
              "7      6.000368\n",
              "8      1.840153\n",
              "9      3.093357\n",
              "10     1.766689\n",
              "11     3.658747\n",
              "12     2.068687\n",
              "13     1.164862\n",
              "14     2.902281\n",
              "15    30.558272\n",
              "16     7.058716\n",
              "17     1.334922\n",
              "18     1.972218\n",
              "19     2.918487\n",
              "20     5.632603\n",
              "21     4.170062\n",
              "22     1.362006\n",
              "23     0.378609\n",
              "24     8.655100\n",
              "dtype: float64"
            ]
          },
          "metadata": {
            "tags": []
          },
          "execution_count": 26
        }
      ]
    },
    {
      "cell_type": "code",
      "metadata": {
        "id": "eyV8omvX4HRR",
        "colab_type": "code",
        "outputId": "a912f3a8-ebb8-4cf9-be36-48f01a2bb68d",
        "colab": {
          "base_uri": "https://localhost:8080/",
          "height": 34
        }
      },
      "source": [
        "# We can to calculate the mean of one column usign the follwing code:\n",
        "gdf['AREA_KM2'].mean()"
      ],
      "execution_count": 28,
      "outputs": [
        {
          "output_type": "execute_result",
          "data": {
            "text/plain": [
              "51459.40499999999"
            ]
          },
          "metadata": {
            "tags": []
          },
          "execution_count": 28
        }
      ]
    },
    {
      "cell_type": "code",
      "metadata": {
        "id": "QfXN_4pl4S8Z",
        "colab_type": "code",
        "colab": {}
      },
      "source": [
        "# Filter one column about your name \n",
        "lima = gdf[gdf['NOMBDEP'] == 'LIMA']"
      ],
      "execution_count": 0,
      "outputs": []
    },
    {
      "cell_type": "code",
      "metadata": {
        "id": "CaYgm57y5tFA",
        "colab_type": "code",
        "outputId": "4a6bb99a-2731-48af-93f1-f3c12b647fe2",
        "colab": {
          "base_uri": "https://localhost:8080/",
          "height": 282
        }
      },
      "source": [
        "lima.plot()"
      ],
      "execution_count": 30,
      "outputs": [
        {
          "output_type": "execute_result",
          "data": {
            "text/plain": [
              "<matplotlib.axes._subplots.AxesSubplot at 0x7ffb6109e400>"
            ]
          },
          "metadata": {
            "tags": []
          },
          "execution_count": 30
        },
        {
          "output_type": "display_data",
          "data": {
            "image/png": "[encoded data removed]",
            "text/plain": [
              "<Figure size 432x288 with 1 Axes>"
            ]
          },
          "metadata": {
            "tags": []
          }
        }
      ]
    },
    {
      "cell_type": "code",
      "metadata": {
        "id": "xQFSn67BgcBC",
        "colab_type": "code",
        "colab": {
          "base_uri": "https://localhost:8080/",
          "height": 51
        },
        "outputId": "20629758-fbda-4472-ec6d-40838d3e7ac5"
      },
      "source": [
        "lima['AREA_KM2']"
      ],
      "execution_count": 33,
      "outputs": [
        {
          "output_type": "execute_result",
          "data": {
            "text/plain": [
              "14    34987.759\n",
              "Name: AREA_KM2, dtype: float64"
            ]
          },
          "metadata": {
            "tags": []
          },
          "execution_count": 33
        }
      ]
    },
    {
      "cell_type": "code",
      "metadata": {
        "id": "_D2pw-YdgsvY",
        "colab_type": "code",
        "colab": {
          "base_uri": "https://localhost:8080/",
          "height": 51
        },
        "outputId": "7087b1bb-1485-40d3-f31a-d5a127b3545c"
      },
      "source": [
        "lima.area * (111.11**2)"
      ],
      "execution_count": 37,
      "outputs": [
        {
          "output_type": "execute_result",
          "data": {
            "text/plain": [
              "14    35829.916251\n",
              "dtype: float64"
            ]
          },
          "metadata": {
            "tags": []
          },
          "execution_count": 37
        }
      ]
    },
    {
      "cell_type": "code",
      "metadata": {
        "id": "wwDvkSX9s1gX",
        "colab_type": "code",
        "colab": {
          "base_uri": "https://localhost:8080/",
          "height": 34
        },
        "outputId": "52c874d8-7d33-41fb-c9bc-fe33d03af2d9"
      },
      "source": [
        "lima.crs"
      ],
      "execution_count": 61,
      "outputs": [
        {
          "output_type": "execute_result",
          "data": {
            "text/plain": [
              "{'init': 'epsg:4326'}"
            ]
          },
          "metadata": {
            "tags": []
          },
          "execution_count": 61
        }
      ]
    },
    {
      "cell_type": "markdown",
      "metadata": {
        "id": "c7nB_nGS7alw",
        "colab_type": "text"
      },
      "source": [
        "# Simple geometries :\n",
        " * Points \n",
        " * Lines \n",
        " * Polygons\n",
        "\n"
      ]
    },
    {
      "cell_type": "code",
      "metadata": {
        "id": "EwatqgfZ8GVx",
        "colab_type": "code",
        "colab": {}
      },
      "source": [
        "cp = geopandas.read_file('https://github.com/barja8/SpatialDataPeru/raw/master/HealthCenter/HealthCenter.gpkg')\n"
      ],
      "execution_count": 0,
      "outputs": []
    },
    {
      "cell_type": "code",
      "metadata": {
        "id": "uIt34K0q9KxB",
        "colab_type": "code",
        "outputId": "efc282d3-1594-4683-d876-e4450ac81e5e",
        "colab": {
          "base_uri": "https://localhost:8080/",
          "height": 650
        }
      },
      "source": [
        "cp.head()"
      ],
      "execution_count": 0,
      "outputs": [
        {
          "output_type": "execute_result",
          "data": {
            "text/html": [
              "<div>\n",
              "<style scoped>\n",
              "    .dataframe tbody tr th:only-of-type {\n",
              "        vertical-align: middle;\n",
              "    }\n",
              "\n",
              "    .dataframe tbody tr th {\n",
              "        vertical-align: top;\n",
              "    }\n",
              "\n",
              "    .dataframe thead th {\n",
              "        text-align: right;\n",
              "    }\n",
              "</style>\n",
              "<table border=\"1\" class=\"dataframe\">\n",
              "  <thead>\n",
              "    <tr style=\"text-align: right;\">\n",
              "      <th></th>\n",
              "      <th>NRO_</th>\n",
              "      <th>DEPARTAMEN</th>\n",
              "      <th>PROVINCIA</th>\n",
              "      <th>DISTRITO</th>\n",
              "      <th>NOMBRE_DEL</th>\n",
              "      <th>TIPO_DE_ES</th>\n",
              "      <th>NOMBRE_DE</th>\n",
              "      <th>CATEGORÍA</th>\n",
              "      <th>OBJETIVO_D</th>\n",
              "      <th>HORARIO_DE</th>\n",
              "      <th>Cluster_ID</th>\n",
              "      <th>geometry</th>\n",
              "    </tr>\n",
              "  </thead>\n",
              "  <tbody>\n",
              "    <tr>\n",
              "      <th>0</th>\n",
              "      <td>1.0</td>\n",
              "      <td>UCAYALI</td>\n",
              "      <td>CORONEL PORTILLO</td>\n",
              "      <td>CALLERIA</td>\n",
              "      <td>TACSHITEA</td>\n",
              "      <td>ESTABLECIMIENTO DE SALUD SIN INTERNAMIENTO</td>\n",
              "      <td>PUESTOS DE SALUD O POSTAS DE SALUD</td>\n",
              "      <td>I-2</td>\n",
              "      <td>POBLACION EN GENERAL</td>\n",
              "      <td>7:30 A.M A 17:00 P</td>\n",
              "      <td>1</td>\n",
              "      <td>POINT (-74.65209 -8.04805)</td>\n",
              "    </tr>\n",
              "    <tr>\n",
              "      <th>1</th>\n",
              "      <td>2.0</td>\n",
              "      <td>UCAYALI</td>\n",
              "      <td>CORONEL PORTILLO</td>\n",
              "      <td>CALLERIA</td>\n",
              "      <td>TACSHITEA</td>\n",
              "      <td>ESTABLECIMIENTO DE SALUD SIN INTERNAMIENTO</td>\n",
              "      <td>PUESTOS DE SALUD O POSTAS DE SALUD</td>\n",
              "      <td>I-2</td>\n",
              "      <td>POBLACION EN GENERAL</td>\n",
              "      <td>7:30 A.M A 17:00 P</td>\n",
              "      <td>1</td>\n",
              "      <td>POINT (-74.65209 -8.04805)</td>\n",
              "    </tr>\n",
              "    <tr>\n",
              "      <th>2</th>\n",
              "      <td>3.0</td>\n",
              "      <td>UCAYALI</td>\n",
              "      <td>CORONEL PORTILLO</td>\n",
              "      <td>CALLERIA</td>\n",
              "      <td>PUERTO BETHEL</td>\n",
              "      <td>ESTABLECIMIENTO DE SALUD SIN INTERNAMIENTO</td>\n",
              "      <td>PUESTOS DE SALUD O POSTAS DE SALUD</td>\n",
              "      <td>I-1</td>\n",
              "      <td>POBLACION EN GENERAL</td>\n",
              "      <td>7:30 -15:30</td>\n",
              "      <td>1</td>\n",
              "      <td>POINT (-74.25994 -8.43577)</td>\n",
              "    </tr>\n",
              "    <tr>\n",
              "      <th>3</th>\n",
              "      <td>4.0</td>\n",
              "      <td>UCAYALI</td>\n",
              "      <td>CORONEL PORTILLO</td>\n",
              "      <td>CALLERIA</td>\n",
              "      <td>NUEVA BETANIA</td>\n",
              "      <td>ESTABLECIMIENTO DE SALUD SIN INTERNAMIENTO</td>\n",
              "      <td>PUESTOS DE SALUD O POSTAS DE SALUD</td>\n",
              "      <td>I-1</td>\n",
              "      <td>POBLACION EN GENERAL</td>\n",
              "      <td>7:30 - 17:30</td>\n",
              "      <td>1</td>\n",
              "      <td>POINT (-74.29653 -8.39837)</td>\n",
              "    </tr>\n",
              "    <tr>\n",
              "      <th>4</th>\n",
              "      <td>5.0</td>\n",
              "      <td>UCAYALI</td>\n",
              "      <td>CORONEL PORTILLO</td>\n",
              "      <td>CALLERIA</td>\n",
              "      <td>SANTA CARMELA DE MASHANGAY</td>\n",
              "      <td>ESTABLECIMIENTO DE SALUD SIN INTERNAMIENTO</td>\n",
              "      <td>PUESTOS DE SALUD O POSTAS DE SALUD</td>\n",
              "      <td>I-1</td>\n",
              "      <td>POBLACION EN GENERAL</td>\n",
              "      <td>7:00 -14:00</td>\n",
              "      <td>1</td>\n",
              "      <td>POINT (-74.36117 -8.39858)</td>\n",
              "    </tr>\n",
              "  </tbody>\n",
              "</table>\n",
              "</div>"
            ],
            "text/plain": [
              "   NRO_ DEPARTAMEN  ... Cluster_ID                    geometry\n",
              "0   1.0    UCAYALI  ...          1  POINT (-74.65209 -8.04805)\n",
              "1   2.0    UCAYALI  ...          1  POINT (-74.65209 -8.04805)\n",
              "2   3.0    UCAYALI  ...          1  POINT (-74.25994 -8.43577)\n",
              "3   4.0    UCAYALI  ...          1  POINT (-74.29653 -8.39837)\n",
              "4   5.0    UCAYALI  ...          1  POINT (-74.36117 -8.39858)\n",
              "\n",
              "[5 rows x 12 columns]"
            ]
          },
          "metadata": {
            "tags": []
          },
          "execution_count": 29
        }
      ]
    },
    {
      "cell_type": "code",
      "metadata": {
        "id": "hR_iLKDS9OGv",
        "colab_type": "code",
        "outputId": "09ce1260-7c96-4bd9-a98e-26c853360920",
        "colab": {
          "base_uri": "https://localhost:8080/",
          "height": 283
        }
      },
      "source": [
        "cp.plot()"
      ],
      "execution_count": 0,
      "outputs": [
        {
          "output_type": "execute_result",
          "data": {
            "text/plain": [
              "<matplotlib.axes._subplots.AxesSubplot at 0x7ff0024bf4e0>"
            ]
          },
          "metadata": {
            "tags": []
          },
          "execution_count": 30
        },
        {
          "output_type": "display_data",
          "data": {
            "image/png": "[encoded data removed]",
            "text/plain": [
              "<Figure size 432x288 with 1 Axes>"
            ]
          },
          "metadata": {
            "tags": []
          }
        }
      ]
    },
    {
      "cell_type": "code",
      "metadata": {
        "id": "uU5shrgD9QR0",
        "colab_type": "code",
        "outputId": "61f9a050-351d-4f42-ef28-1c7b26e09f9d",
        "colab": {
          "base_uri": "https://localhost:8080/",
          "height": 72
        }
      },
      "source": [
        "print(type(cp))\n",
        "print('---'*24)\n",
        "print(cp.geometry[0])"
      ],
      "execution_count": 0,
      "outputs": [
        {
          "output_type": "stream",
          "text": [
            "<class 'geopandas.geodataframe.GeoDataFrame'>\n",
            "------------------------------------------------------------------------\n",
            "POINT (-74.652086 -8.048045999999999)\n"
          ],
          "name": "stdout"
        }
      ]
    },
    {
      "cell_type": "markdown",
      "metadata": {
        "id": "0FoAbJrLcSza",
        "colab_type": "text"
      },
      "source": [
        "#### **The shapely library**\n"
      ]
    },
    {
      "cell_type": "code",
      "metadata": {
        "id": "4AbY5W5zcj9M",
        "colab_type": "code",
        "colab": {
          "base_uri": "https://localhost:8080/",
          "height": 34
        },
        "outputId": "ae8a7916-2b34-4f12-cdef-93d7b8240c27"
      },
      "source": [
        "# Installation of shapely library \n",
        "!pip install shapely"
      ],
      "execution_count": 1,
      "outputs": [
        {
          "output_type": "stream",
          "text": [
            "Requirement already satisfied: shapely in /usr/local/lib/python3.6/dist-packages (1.6.4.post2)\n"
          ],
          "name": "stdout"
        }
      ]
    },
    {
      "cell_type": "code",
      "metadata": {
        "id": "QBjhh5fNcnZH",
        "colab_type": "code",
        "colab": {}
      },
      "source": [
        "from shapely.geometry import Point, Polygon, LineString\n"
      ],
      "execution_count": 0,
      "outputs": []
    },
    {
      "cell_type": "code",
      "metadata": {
        "id": "73HwZ_VZdtK_",
        "colab_type": "code",
        "colab": {
          "base_uri": "https://localhost:8080/",
          "height": 34
        },
        "outputId": "1cce0dac-16dd-4654-d001-8a5069e0ead6"
      },
      "source": [
        "p = Point(0, 0)\n",
        "print(p)"
      ],
      "execution_count": 4,
      "outputs": [
        {
          "output_type": "stream",
          "text": [
            "POINT (0 0)\n"
          ],
          "name": "stdout"
        }
      ]
    },
    {
      "cell_type": "code",
      "metadata": {
        "id": "tIPTOHVOd5q5",
        "colab_type": "code",
        "colab": {
          "base_uri": "https://localhost:8080/",
          "height": 34
        },
        "outputId": "ca8f667f-e4ab-4e7b-f02a-917ccd6565d9"
      },
      "source": [
        "pol = Polygon([(1,1),(2,2),(2,1)])\n",
        "print(pol)"
      ],
      "execution_count": 7,
      "outputs": [
        {
          "output_type": "stream",
          "text": [
            "POLYGON ((1 1, 2 2, 2 1, 1 1))\n"
          ],
          "name": "stdout"
        }
      ]
    },
    {
      "cell_type": "code",
      "metadata": {
        "id": "SYr1VKdHefmh",
        "colab_type": "code",
        "colab": {
          "base_uri": "https://localhost:8080/",
          "height": 34
        },
        "outputId": "c649196b-d3e7-4c63-85cb-dc66ce2bf2c1"
      },
      "source": [
        "pol.area"
      ],
      "execution_count": 8,
      "outputs": [
        {
          "output_type": "execute_result",
          "data": {
            "text/plain": [
              "0.5"
            ]
          },
          "metadata": {
            "tags": []
          },
          "execution_count": 8
        }
      ]
    },
    {
      "cell_type": "code",
      "metadata": {
        "id": "a54YgEvuelIN",
        "colab_type": "code",
        "colab": {
          "base_uri": "https://localhost:8080/",
          "height": 34
        },
        "outputId": "c78e0b97-2338-452e-c0a0-fc73f51dadd8"
      },
      "source": [
        "pol.distance(p)"
      ],
      "execution_count": 9,
      "outputs": [
        {
          "output_type": "execute_result",
          "data": {
            "text/plain": [
              "1.4142135623730951"
            ]
          },
          "metadata": {
            "tags": []
          },
          "execution_count": 9
        }
      ]
    },
    {
      "cell_type": "markdown",
      "metadata": {
        "id": "MGUBgO6vfAlb",
        "colab_type": "text"
      },
      "source": [
        "##### **Plotting our layer**\n"
      ]
    },
    {
      "cell_type": "code",
      "metadata": {
        "id": "yUuimhnafMgu",
        "colab_type": "code",
        "colab": {
          "base_uri": "https://localhost:8080/",
          "height": 265
        },
        "outputId": "d5587a59-64da-4104-d889-fbdb8aacfe9d"
      },
      "source": [
        "gdf.plot()\n",
        "\n"
      ],
      "execution_count": 52,
      "outputs": [
        {
          "output_type": "display_data",
          "data": {
            "image/png": "[encoded data removed]",
            "text/plain": [
              "<Figure size 432x288 with 1 Axes>"
            ]
          },
          "metadata": {
            "tags": []
          }
        }
      ]
    },
    {
      "cell_type": "code",
      "metadata": {
        "id": "YwY9b7pok0ZR",
        "colab_type": "code",
        "colab": {
          "base_uri": "https://localhost:8080/",
          "height": 282
        },
        "outputId": "5d6692d9-a622-4d16-a8db-1be5915be445"
      },
      "source": [
        "gdf.plot(column = 'NOMBDEP')"
      ],
      "execution_count": 53,
      "outputs": [
        {
          "output_type": "execute_result",
          "data": {
            "text/plain": [
              "<matplotlib.axes._subplots.AxesSubplot at 0x7ffb5b32fb70>"
            ]
          },
          "metadata": {
            "tags": []
          },
          "execution_count": 53
        },
        {
          "output_type": "display_data",
          "data": {
            "image/png": "[encoded data removed]",
            "text/plain": [
              "<Figure size 432x288 with 1 Axes>"
            ]
          },
          "metadata": {
            "tags": []
          }
        }
      ]
    },
    {
      "cell_type": "code",
      "metadata": {
        "id": "mPl8qGzpf88c",
        "colab_type": "code",
        "colab": {}
      },
      "source": [
        "import matplotlib.pyplot as plt "
      ],
      "execution_count": 0,
      "outputs": []
    },
    {
      "cell_type": "code",
      "metadata": {
        "id": "lqLxP1IjoJhC",
        "colab_type": "code",
        "colab": {
          "base_uri": "https://localhost:8080/",
          "height": 282
        },
        "outputId": "e815ceaf-5a1f-4722-d1fe-1b476efef207"
      },
      "source": [
        "gdf.plot(column = 'AREA_KM2',legend = True)"
      ],
      "execution_count": 60,
      "outputs": [
        {
          "output_type": "execute_result",
          "data": {
            "text/plain": [
              "<matplotlib.axes._subplots.AxesSubplot at 0x7ffb5b3ca390>"
            ]
          },
          "metadata": {
            "tags": []
          },
          "execution_count": 60
        },
        {
          "output_type": "display_data",
          "data": {
            "image/png": "[encoded data removed]",
            "text/plain": [
              "<Figure size 432x288 with 2 Axes>"
            ]
          },
          "metadata": {
            "tags": []
          }
        }
      ]
    },
    {
      "cell_type": "code",
      "metadata": {
        "id": "l2nWlaD0qOG2",
        "colab_type": "code",
        "colab": {}
      },
      "source": [
        ""
      ],
      "execution_count": 0,
      "outputs": []
    }
  ]
}